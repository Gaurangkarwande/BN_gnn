{
 "cells": [
  {
   "cell_type": "code",
   "execution_count": 2,
   "metadata": {},
   "outputs": [],
   "source": [
    "from pathlib import Path\n",
    "from src.data import BNDataset\n",
    "from src.models.BNNet import BNNet\n",
    "from src.train import train\n",
    "from src.constants import HEPAR_TARGET, ALARM_TARGET, GLOBAL_SEED\n",
    "from src.utils import (get_train_test_splits, encode_data,\n",
    "                       construct_adj_mat, create_random_dag,\n",
    "                       update_bn_model, get_terminal_connection_nodes)\n",
    "from src.models.BNNet import BNNet\n",
    "import torch\n",
    "\n",
    "from pgmpy.utils import get_example_model\n",
    "from pgmpy.metrics import structure_score\n",
    "from torch.utils.data import DataLoader\n",
    "\n",
    "import yaml"
   ]
  },
  {
   "cell_type": "code",
   "execution_count": 3,
   "metadata": {},
   "outputs": [],
   "source": [
    "bn_name = 'alarm'\n",
    "fpath_config = \"/home/gaurang/bayesian_network/code/src/config.yaml\"\n",
    "with open(fpath_config, \"r\") as f:\n",
    "    config = yaml.safe_load(f)\n",
    "\n",
    "device = torch.device(\"cuda\" if torch.cuda.is_available() else \"cpu\")"
   ]
  },
  {
   "cell_type": "code",
   "execution_count": 13,
   "metadata": {},
   "outputs": [
    {
     "data": {
      "application/vnd.jupyter.widget-view+json": {
       "model_id": "cbf7222c5d4b4d92be64e1213309b891",
       "version_major": 2,
       "version_minor": 0
      },
      "text/plain": [
       "  0%|          | 0/70 [00:00<?, ?it/s]"
      ]
     },
     "metadata": {},
     "output_type": "display_data"
    },
    {
     "name": "stderr",
     "output_type": "stream",
     "text": [
      "/home/gaurang/anaconda3/envs/gnn/lib/python3.10/site-packages/pgmpy/utils/mathext.py:83: UserWarning: Probability values don't exactly sum to 1. Differ by: -9.99999993922529e-09. Adjusting values.\n",
      "  warn(\n"
     ]
    }
   ],
   "source": [
    "bn = get_example_model(\"hepar2\")\n",
    "df_data = bn.simulate(10000, seed=GLOBAL_SEED)"
   ]
  },
  {
   "cell_type": "code",
   "execution_count": 5,
   "metadata": {},
   "outputs": [
    {
     "data": {
      "text/plain": [
       "-219.10621316519894"
      ]
     },
     "execution_count": 5,
     "metadata": {},
     "output_type": "execute_result"
    }
   ],
   "source": [
    "_, _, df_data_test_BIF = get_train_test_splits(df_data, GLOBAL_SEED, overfit=True)\n",
    "gt_BIF = structure_score(bn, df_data_test_BIF)\n",
    "gt_BIF"
   ]
  },
  {
   "cell_type": "code",
   "execution_count": 6,
   "metadata": {},
   "outputs": [],
   "source": [
    "# encode data\n",
    "df_data, encoder = encode_data(df_data, bn)\n",
    "df_train, df_valid, df_test = get_train_test_splits(df_data, GLOBAL_SEED, overfit=True)"
   ]
  },
  {
   "cell_type": "code",
   "execution_count": 7,
   "metadata": {},
   "outputs": [],
   "source": [
    "rand_edge_probability = 0.2\n",
    "target_node = ALARM_TARGET"
   ]
  },
  {
   "cell_type": "code",
   "execution_count": 8,
   "metadata": {},
   "outputs": [],
   "source": [
    "adj_df_gt = construct_adj_mat(edge_list=list(bn.edges), nodes=list(bn.nodes), target_node=target_node)\n",
    "adj_df = create_random_dag(\n",
    "            nodes=list(bn.nodes),\n",
    "            target_node=target_node,\n",
    "            prob=rand_edge_probability,\n",
    "            num_edges_gt=len(bn.edges),\n",
    "        )\n",
    "bn = update_bn_model(bn, adj_df)"
   ]
  },
  {
   "cell_type": "code",
   "execution_count": 9,
   "metadata": {},
   "outputs": [],
   "source": [
    "train_set = BNDataset(\n",
    "        df_data=df_train,\n",
    "        target_node=target_node,\n",
    "        bn=bn,\n",
    "        adj_df=adj_df,\n",
    "        rand_edge_probability=rand_edge_probability,\n",
    "    )\n",
    "val_set = BNDataset(\n",
    "    df_data=df_valid,\n",
    "    target_node=target_node,\n",
    "    bn=bn,\n",
    "    adj_df=adj_df,\n",
    "    rand_edge_probability=rand_edge_probability,\n",
    ")\n",
    "test_set = BNDataset(\n",
    "    df_data=df_test,\n",
    "    target_node=target_node,\n",
    "    bn=bn,\n",
    "    adj_df=adj_df,\n",
    "    rand_edge_probability=rand_edge_probability,\n",
    ")"
   ]
  },
  {
   "cell_type": "code",
   "execution_count": 10,
   "metadata": {},
   "outputs": [],
   "source": [
    "dataloader_train = DataLoader(train_set, batch_size=config[\"batch_size_train\"])\n",
    "dataloader_valid = DataLoader(val_set, batch_size=config[\"batch_size_val\"])\n",
    "dataloader_test = DataLoader(test_set, batch_size=config[\"batch_size_test\"])"
   ]
  },
  {
   "cell_type": "code",
   "execution_count": 11,
   "metadata": {},
   "outputs": [],
   "source": [
    "edge_index = train_set.edge_index\n",
    "model = BNNet(\n",
    "    config=config,\n",
    "    num_nodes=len(train_set.input_nodes),\n",
    "    node_states=train_set.input_states,\n",
    "    edge_index=edge_index,\n",
    "    terminal_node_ids=train_set.terminal_node_ids,\n",
    "    target_node_states=train_set.target_states,\n",
    ")\n",
    "criterion = torch.nn.CrossEntropyLoss()\n",
    "optimizer = torch.optim.Adam(model.parameters(), lr=config[\"lr\"])"
   ]
  },
  {
   "cell_type": "code",
   "execution_count": 14,
   "metadata": {},
   "outputs": [
    {
     "data": {
      "text/plain": [
       "Sequential(\n",
       "  (0): Linear(in_features=144, out_features=16, bias=True)\n",
       "  (1): LeakyReLU(negative_slope=0.01)\n",
       "  (2): Linear(in_features=16, out_features=3, bias=True)\n",
       ")"
      ]
     },
     "execution_count": 14,
     "metadata": {},
     "output_type": "execute_result"
    }
   ],
   "source": [
    "model.MLP"
   ]
  },
  {
   "cell_type": "code",
   "execution_count": 15,
   "metadata": {},
   "outputs": [],
   "source": [
    "batch = next(iter(dataloader_train))"
   ]
  },
  {
   "cell_type": "code",
   "execution_count": 16,
   "metadata": {},
   "outputs": [
    {
     "name": "stdout",
     "output_type": "stream",
     "text": [
      "torch.Size([24, 36]) torch.Size([24])\n"
     ]
    }
   ],
   "source": [
    "X, y = batch\n",
    "X = \n",
    "print(X.shape, y.shape)"
   ]
  },
  {
   "cell_type": "code",
   "execution_count": 17,
   "metadata": {},
   "outputs": [],
   "source": [
    "pred = model(X)"
   ]
  },
  {
   "cell_type": "code",
   "execution_count": 18,
   "metadata": {},
   "outputs": [
    {
     "data": {
      "text/plain": [
       "tensor(1.1579, grad_fn=<NllLossBackward0>)"
      ]
     },
     "execution_count": 18,
     "metadata": {},
     "output_type": "execute_result"
    }
   ],
   "source": [
    "criterion(pred, y)"
   ]
  }
 ],
 "metadata": {
  "kernelspec": {
   "display_name": "gnn",
   "language": "python",
   "name": "python3"
  },
  "language_info": {
   "codemirror_mode": {
    "name": "ipython",
    "version": 3
   },
   "file_extension": ".py",
   "mimetype": "text/x-python",
   "name": "python",
   "nbconvert_exporter": "python",
   "pygments_lexer": "ipython3",
   "version": "3.10.9"
  },
  "orig_nbformat": 4
 },
 "nbformat": 4,
 "nbformat_minor": 2
}
