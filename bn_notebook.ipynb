{
 "cells": [
  {
   "cell_type": "code",
   "execution_count": 1,
   "metadata": {},
   "outputs": [],
   "source": [
    "from pgmpy.readwrite import BIFReader\n",
    "from pgmpy.utils import get_example_model\n",
    "import pandas as pd\n",
    "import numpy as np\n",
    "from collections import defaultdict\n",
    "import networkx as nx\n",
    "import random\n",
    "\n",
    "from src.utils import adj_df_from_BIF, create_random_dag, construct_adj_mat, update_bn_model, adj_diff_stats, perturb_adj_df\n",
    "from pgmpy.metrics import structure_score"
   ]
  },
  {
   "cell_type": "code",
   "execution_count": 2,
   "metadata": {},
   "outputs": [
    {
     "data": {
      "application/vnd.jupyter.widget-view+json": {
       "model_id": "761c30715631433facea87db828feedc",
       "version_major": 2,
       "version_minor": 0
      },
      "text/plain": [
       "  0%|          | 0/11 [00:00<?, ?it/s]"
      ]
     },
     "metadata": {},
     "output_type": "display_data"
    },
    {
     "name": "stderr",
     "output_type": "stream",
     "text": [
      "/home/gaurang/anaconda3/envs/gnn/lib/python3.10/site-packages/pgmpy/utils/mathext.py:83: UserWarning: Probability values don't exactly sum to 1. Differ by: 1.1102230246251565e-16. Adjusting values.\n",
      "  warn(\n"
     ]
    },
    {
     "data": {
      "text/plain": [
       "True"
      ]
     },
     "execution_count": 2,
     "metadata": {},
     "output_type": "execute_result"
    }
   ],
   "source": [
    "bn = get_example_model(\"sachs\")\n",
    "data = bn.simulate(10000, seed=123)\n",
    "nx.is_directed_acyclic_graph(bn)"
   ]
  },
  {
   "cell_type": "code",
   "execution_count": 3,
   "metadata": {},
   "outputs": [
    {
     "data": {
      "text/plain": [
       "'Akt'"
      ]
     },
     "execution_count": 3,
     "metadata": {},
     "output_type": "execute_result"
    }
   ],
   "source": [
    "node_list = list(nx.topological_sort(bn))\n",
    "edge_list = list(bn.edges)\n",
    "target_node = node_list[-1]\n",
    "target_node"
   ]
  },
  {
   "cell_type": "code",
   "execution_count": 8,
   "metadata": {},
   "outputs": [
    {
     "name": "stdout",
     "output_type": "stream",
     "text": [
      "17.0 17.0\n",
      "11 6 12.0\n"
     ]
    }
   ],
   "source": [
    "adj_df_gt = construct_adj_mat(edge_list=edge_list, nodes=node_list)\n",
    "adj_df = perturb_adj_df(adj_df=adj_df_gt.copy(), noise=0.3)\n",
    "# print(adj_df_gt.values[:, -1].sum(), adj_df.values[:, -1].sum())\n",
    "print(adj_df_gt.values.sum().sum(), adj_df.values.sum().sum())\n",
    "num_gt_edges_retained, num_extra_edges, a = adj_diff_stats(adj_df_gt, adj_df)\n",
    "print(num_gt_edges_retained, num_extra_edges, a)"
   ]
  },
  {
   "cell_type": "code",
   "execution_count": 130,
   "metadata": {},
   "outputs": [
    {
     "data": {
      "text/plain": [
       "True"
      ]
     },
     "execution_count": 130,
     "metadata": {},
     "output_type": "execute_result"
    }
   ],
   "source": [
    "adj_df_sorted = adj_df.reindex(sorted_nodes)[sorted_nodes]\n",
    "adj_mat = adj_df_sorted.values\n",
    "np.allclose(adj_mat, np.triu(adj_mat))"
   ]
  },
  {
   "cell_type": "code",
   "execution_count": 152,
   "metadata": {},
   "outputs": [
    {
     "name": "stdout",
     "output_type": "stream",
     "text": [
      "125.0\n"
     ]
    }
   ],
   "source": [
    "np.random.seed(123)\n",
    "noise = np.random.normal(0, 0.6, size=adj_mat.shape)\n",
    "updated_mat = np.triu(np.clip(np.round(adj_mat + noise), a_min=0, a_max=1), 1)\n",
    "print((updated_mat - adj_mat).sum().sum())\n",
    "# updated_adj_df = pd.DataFrame(updated_mat, columns=adj_df_sorted.columns, index=adj_df_sorted.index)\n",
    "# updated_bn = update_bn_model(bn.copy(), updated_adj_df)\n",
    "# print(structure_score(bn, data), structure_score(updated_bn, data))"
   ]
  },
  {
   "cell_type": "code",
   "execution_count": 142,
   "metadata": {},
   "outputs": [
    {
     "data": {
      "text/plain": [
       "267.0"
      ]
     },
     "execution_count": 142,
     "metadata": {},
     "output_type": "execute_result"
    }
   ],
   "source": [
    "updated_mat.sum().sum()"
   ]
  },
  {
   "cell_type": "code",
   "execution_count": 104,
   "metadata": {},
   "outputs": [
    {
     "name": "stdout",
     "output_type": "stream",
     "text": [
      "-72286.47425147497 -84773.7347582236\n"
     ]
    }
   ],
   "source": [
    "\n",
    "\n",
    "print(structure_score(bn, data), structure_score(updated_bn, data))"
   ]
  },
  {
   "cell_type": "code",
   "execution_count": 13,
   "metadata": {},
   "outputs": [
    {
     "data": {
      "text/plain": [
       "-188508.2333530581"
      ]
     },
     "execution_count": 13,
     "metadata": {},
     "output_type": "execute_result"
    }
   ],
   "source": [
    "structure_score(model2_rand, data2)"
   ]
  },
  {
   "cell_type": "code",
   "execution_count": 4,
   "metadata": {},
   "outputs": [],
   "source": [
    "adj_df = construct_adj_mat(list(model2.edges), list(model2.nodes), 'BP')"
   ]
  },
  {
   "cell_type": "code",
   "execution_count": 5,
   "metadata": {},
   "outputs": [],
   "source": [
    "adj_df_rand = create_random_dag(list(model2.nodes), target_node='BP', prob=0.1, num_edges_gt=len(model2.edges))"
   ]
  },
  {
   "cell_type": "code",
   "execution_count": 154,
   "metadata": {},
   "outputs": [
    {
     "data": {
      "text/plain": [
       "{1: 2, 5: 7}"
      ]
     },
     "execution_count": 154,
     "metadata": {},
     "output_type": "execute_result"
    }
   ],
   "source": [
    "di = {1:2}\n",
    "di.update({5:7})\n",
    "di"
   ]
  },
  {
   "cell_type": "code",
   "execution_count": 11,
   "metadata": {},
   "outputs": [
    {
     "data": {
      "text/plain": [
       "-106110.35986653906"
      ]
     },
     "execution_count": 11,
     "metadata": {},
     "output_type": "execute_result"
    }
   ],
   "source": [
    "from pgmpy.metrics import structure_score\n",
    "\n",
    "structure_score(model2, data2_change)"
   ]
  },
  {
   "cell_type": "code",
   "execution_count": 16,
   "metadata": {},
   "outputs": [
    {
     "data": {
      "text/plain": [
       "-106110.35986653906"
      ]
     },
     "execution_count": 16,
     "metadata": {},
     "output_type": "execute_result"
    }
   ],
   "source": [
    "structure_score(model2, data2_change)"
   ]
  },
  {
   "cell_type": "code",
   "execution_count": 79,
   "metadata": {},
   "outputs": [
    {
     "data": {
      "text/plain": [
       "2"
      ]
     },
     "execution_count": 79,
     "metadata": {},
     "output_type": "execute_result"
    }
   ],
   "source": [
    "list(model.nodes).index('smoke')"
   ]
  },
  {
   "cell_type": "code",
   "execution_count": 19,
   "metadata": {},
   "outputs": [],
   "source": [
    "def construct_adj_mat(edge_list: list, nodes: list, target_node: str) -> pd.DataFrame:\n",
    "    \"\"\"Construct an adjacency matrix dataframe from list of edges\n",
    "    \n",
    "    Args:\n",
    "        edge_list: List of edges where each element is tuple (source, destination)\n",
    "    \n",
    "    Returns: the adjacency matrix as a dataframe\n",
    "    \"\"\"\n",
    "    \n",
    "    nodes.pop(nodes.index(target_node))\n",
    "    nodes.append(target_node)\n",
    "    adj_df = pd.DataFrame(np.zeros(shape=(len(nodes), len(nodes)), dtype=float), columns=nodes, index=nodes)\n",
    "    for edge in edge_list:\n",
    "        src, dst = edge\n",
    "        adj_df.loc[src][dst] = 1.0\n",
    "    return adj_df"
   ]
  },
  {
   "cell_type": "code",
   "execution_count": 20,
   "metadata": {},
   "outputs": [
    {
     "ename": "AssertionError",
     "evalue": "",
     "output_type": "error",
     "traceback": [
      "\u001b[0;31m---------------------------------------------------------------------------\u001b[0m",
      "\u001b[0;31mAssertionError\u001b[0m                            Traceback (most recent call last)",
      "\u001b[1;32m/home/gaurang/bayesian_network/code/bn_notebook.ipynb Cell 14\u001b[0m in \u001b[0;36m<cell line: 1>\u001b[0;34m()\u001b[0m\n\u001b[0;32m----> <a href='vscode-notebook-cell://ssh-remote%2Bplanlab/home/gaurang/bayesian_network/code/bn_notebook.ipynb#X16sdnNjb2RlLXJlbW90ZQ%3D%3D?line=0'>1</a>\u001b[0m a \u001b[39m=\u001b[39m construct_adj_mat(model\u001b[39m.\u001b[39;49medges, \u001b[39mlist\u001b[39;49m(model\u001b[39m.\u001b[39;49mnodes), \u001b[39m'\u001b[39;49m\u001b[39mBP\u001b[39;49m\u001b[39m'\u001b[39;49m)\n",
      "\u001b[1;32m/home/gaurang/bayesian_network/code/bn_notebook.ipynb Cell 14\u001b[0m in \u001b[0;36mconstruct_adj_mat\u001b[0;34m(edge_list, nodes, target_node)\u001b[0m\n\u001b[1;32m     <a href='vscode-notebook-cell://ssh-remote%2Bplanlab/home/gaurang/bayesian_network/code/bn_notebook.ipynb#X16sdnNjb2RlLXJlbW90ZQ%3D%3D?line=13'>14</a>\u001b[0m     src, dst \u001b[39m=\u001b[39m edge\n\u001b[1;32m     <a href='vscode-notebook-cell://ssh-remote%2Bplanlab/home/gaurang/bayesian_network/code/bn_notebook.ipynb#X16sdnNjb2RlLXJlbW90ZQ%3D%3D?line=14'>15</a>\u001b[0m     adj_df\u001b[39m.\u001b[39mloc[src][dst] \u001b[39m=\u001b[39m \u001b[39m1.0\u001b[39m\n\u001b[0;32m---> <a href='vscode-notebook-cell://ssh-remote%2Bplanlab/home/gaurang/bayesian_network/code/bn_notebook.ipynb#X16sdnNjb2RlLXJlbW90ZQ%3D%3D?line=15'>16</a>\u001b[0m \u001b[39massert\u001b[39;00m np\u001b[39m.\u001b[39mallclose(adj_df\u001b[39m.\u001b[39mvalues, np\u001b[39m.\u001b[39mtriu(adj_df\u001b[39m.\u001b[39mvalues))\n\u001b[1;32m     <a href='vscode-notebook-cell://ssh-remote%2Bplanlab/home/gaurang/bayesian_network/code/bn_notebook.ipynb#X16sdnNjb2RlLXJlbW90ZQ%3D%3D?line=16'>17</a>\u001b[0m \u001b[39mreturn\u001b[39;00m adj_df\n",
      "\u001b[0;31mAssertionError\u001b[0m: "
     ]
    }
   ],
   "source": [
    "a = construct_adj_mat(model.edges, list(model.nodes), 'BP')\n",
    "# pd.DataFrame(np.tril(a), index=a.index, columns=a.columns)"
   ]
  },
  {
   "cell_type": "code",
   "execution_count": 21,
   "metadata": {},
   "outputs": [],
   "source": [
    "import networkx as nx\n",
    "\n",
    "g = nx.fast_gnp_random_graph(10, 0.5, directed=True)"
   ]
  },
  {
   "cell_type": "code",
   "execution_count": 24,
   "metadata": {},
   "outputs": [
    {
     "data": {
      "text/plain": [
       "False"
      ]
     },
     "execution_count": 24,
     "metadata": {},
     "output_type": "execute_result"
    }
   ],
   "source": [
    "nx.is_directed_acyclic_graph(g)"
   ]
  },
  {
   "cell_type": "code",
   "execution_count": 33,
   "metadata": {},
   "outputs": [
    {
     "data": {
      "text/plain": [
       "True"
      ]
     },
     "execution_count": 33,
     "metadata": {},
     "output_type": "execute_result"
    }
   ],
   "source": [
    "nx.is_directed_acyclic_graph(model)"
   ]
  },
  {
   "cell_type": "code",
   "execution_count": 1,
   "metadata": {},
   "outputs": [],
   "source": [
    "def filter_words(words: list, letters: str):\n",
    "    letter_set = set(letters)\n",
    "    ans = []\n",
    "    for word in words:\n",
    "        word_set = set(list(word))\n",
    "        if len(word_set.intersection(letter_set)) > 0:\n",
    "            ans.append(word)\n",
    "    return ans"
   ]
  },
  {
   "cell_type": "code",
   "execution_count": 2,
   "metadata": {},
   "outputs": [
    {
     "data": {
      "text/plain": [
       "['cam']"
      ]
     },
     "execution_count": 2,
     "metadata": {},
     "output_type": "execute_result"
    }
   ],
   "source": [
    "filter_words(['dog', 'cam'], letters='ak')"
   ]
  }
 ],
 "metadata": {
  "kernelspec": {
   "display_name": "gnn",
   "language": "python",
   "name": "python3"
  },
  "language_info": {
   "codemirror_mode": {
    "name": "ipython",
    "version": 3
   },
   "file_extension": ".py",
   "mimetype": "text/x-python",
   "name": "python",
   "nbconvert_exporter": "python",
   "pygments_lexer": "ipython3",
   "version": "3.10.9"
  },
  "orig_nbformat": 4
 },
 "nbformat": 4,
 "nbformat_minor": 2
}
