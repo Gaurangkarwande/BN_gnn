{
 "cells": [
  {
   "cell_type": "code",
   "execution_count": 4,
   "metadata": {},
   "outputs": [],
   "source": [
    "from pgmpy.readwrite import BIFReader\n",
    "from pgmpy.utils import get_example_model\n",
    "import pandas as pd\n",
    "import numpy as np\n",
    "from collections import defaultdict\n",
    "import networkx as nx\n",
    "import random\n",
    "\n",
    "from src.utils import adj_df_from_BIF, create_random_dag, construct_adj_mat, update_bn_model, adj_diff_stats, perturb_adj_df, encode_data, get_train_test_splits\n",
    "from src.data import BNDataset\n",
    "from pgmpy.metrics import structure_score"
   ]
  },
  {
   "cell_type": "code",
   "execution_count": 20,
   "metadata": {},
   "outputs": [
    {
     "data": {
      "application/vnd.jupyter.widget-view+json": {
       "model_id": "ea099d28e96c4a38bcd3c53f84c5ad00",
       "version_major": 2,
       "version_minor": 0
      },
      "text/plain": [
       "  0%|          | 0/1041 [00:00<?, ?it/s]"
      ]
     },
     "metadata": {},
     "output_type": "display_data"
    },
    {
     "name": "stdout",
     "output_type": "stream",
     "text": [
      "L_ADM_SPONT_INS_ACT\n"
     ]
    },
    {
     "data": {
      "text/plain": [
       "2"
      ]
     },
     "execution_count": 20,
     "metadata": {},
     "output_type": "execute_result"
    }
   ],
   "source": [
    "bn = get_example_model(\"munin\")\n",
    "data = bn.simulate(100, seed=123)\n",
    "node_list = list(nx.topological_sort(bn))\n",
    "edge_list = list(bn.edges)\n",
    "target_node = node_list[-1]\n",
    "print(target_node)\n",
    "adj_df_gt = construct_adj_mat(edge_list=edge_list, nodes=node_list)\n",
    "adj_df = perturb_adj_df(adj_df=adj_df_gt.copy(), noise=0)\n",
    "# encode data\n",
    "df_data, encoder = encode_data(data, bn)\n",
    "df_train, df_valid, df_test = get_train_test_splits(df_data, 123, overfit=True)\n",
    "\n",
    "train_set = BNDataset(\n",
    "        df_data=df_train,\n",
    "        target_node=target_node,\n",
    "        bn=bn,\n",
    "        adj_df=adj_df,\n",
    "        noise=0,\n",
    "    )\n",
    "len(train_set.target_states)"
   ]
  },
  {
   "cell_type": "code",
   "execution_count": 21,
   "metadata": {},
   "outputs": [
    {
     "data": {
      "text/plain": [
       "['NORMAL', 'INCR']"
      ]
     },
     "execution_count": 21,
     "metadata": {},
     "output_type": "execute_result"
    }
   ],
   "source": [
    "train_set.target_states"
   ]
  }
 ],
 "metadata": {
  "kernelspec": {
   "display_name": "gnn",
   "language": "python",
   "name": "python3"
  },
  "language_info": {
   "codemirror_mode": {
    "name": "ipython",
    "version": 3
   },
   "file_extension": ".py",
   "mimetype": "text/x-python",
   "name": "python",
   "nbconvert_exporter": "python",
   "pygments_lexer": "ipython3",
   "version": "3.10.9"
  },
  "orig_nbformat": 4
 },
 "nbformat": 4,
 "nbformat_minor": 2
}
