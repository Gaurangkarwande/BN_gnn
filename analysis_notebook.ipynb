{
 "cells": [
  {
   "cell_type": "code",
   "execution_count": 1,
   "metadata": {},
   "outputs": [],
   "source": [
    "import pandas as pd\n",
    "import numpy as np\n",
    "\n",
    "from pathlib import Path\n",
    "from pgmpy.readwrite import BIFReader\n",
    "from src.utils import adj_df_from_BIF\n",
    "from src.constants import HEPAR_TARGET\n",
    "\n",
    "from sklearn.metrics import precision_score, recall_score, confusion_matrix, ConfusionMatrixDisplay"
   ]
  },
  {
   "cell_type": "code",
   "execution_count": 2,
   "metadata": {},
   "outputs": [],
   "source": [
    "fpath_adj1 = Path(\"/home/gaurang/bayesian_network/experiments/edge_weights/hepar/20230302_160706_training_record/adj_mat.npy\")\n",
    "fpath_adj2 = Path(\"/home/gaurang/bayesian_network/experiments/edge_weights/hepar/20230302_161647_training_record/adj_mat.npy\")\n",
    "fpath_adj3 = Path(\"/home/gaurang/bayesian_network/experiments/edge_weights/hepar/20230302_070642_training_record/adj_mat.npy\")\n",
    "fpath_adj4 = Path(\"/home/gaurang/bayesian_network/experiments/edge_weights/hepar/20230302_071110_training_record/adj_mat.npy\")\n",
    "fpath_adj5 = Path(\"/home/gaurang/bayesian_network/experiments/edge_weights/hepar/20230302_071319_training_record/adj_mat.npy\")\n",
    "fpath_adj6 = Path(\"/home/gaurang/bayesian_network/experiments/edge_weights/hepar/20230302_071742_training_record/adj_mat.npy\")\n",
    "\n",
    "fpath_bif = Path(\"/home/gaurang/bayesian_network/data/hepar/hepar2.bif\")"
   ]
  },
  {
   "cell_type": "code",
   "execution_count": 3,
   "metadata": {},
   "outputs": [],
   "source": [
    "bn = BIFReader(fpath_bif)\n",
    "adj_df = adj_df_from_BIF(bn, HEPAR_TARGET)"
   ]
  },
  {
   "cell_type": "code",
   "execution_count": 4,
   "metadata": {},
   "outputs": [],
   "source": [
    "adj_mat_gt = adj_df.to_numpy()"
   ]
  },
  {
   "cell_type": "code",
   "execution_count": 5,
   "metadata": {},
   "outputs": [
    {
     "data": {
      "text/plain": [
       "123.0"
      ]
     },
     "execution_count": 5,
     "metadata": {},
     "output_type": "execute_result"
    }
   ],
   "source": [
    "adj_mat_gt.sum()"
   ]
  },
  {
   "cell_type": "code",
   "execution_count": 6,
   "metadata": {},
   "outputs": [],
   "source": [
    "adj_mat1 = np.load(fpath_adj1, allow_pickle=True)\n",
    "adj_mat2 = np.load(fpath_adj2, allow_pickle=True)\n",
    "# adj_mat3 = np.load(fpath_adj3, allow_pickle=True)\n",
    "# adj_mat4 = np.load(fpath_adj4, allow_pickle=True)\n",
    "# adj_mat5 = np.load(fpath_adj5, allow_pickle=True)\n",
    "# adj_mat6 = np.load(fpath_adj6, allow_pickle=True)"
   ]
  },
  {
   "cell_type": "code",
   "execution_count": 7,
   "metadata": {},
   "outputs": [],
   "source": [
    "adj_mat1 = np.mean(adj_mat1, axis=0)\n",
    "adj_mat2 = np.mean(adj_mat2, axis=0)"
   ]
  },
  {
   "cell_type": "code",
   "execution_count": 8,
   "metadata": {},
   "outputs": [],
   "source": [
    "adj_mat1 = (adj_mat1 > 0.155).astype(float)"
   ]
  },
  {
   "cell_type": "code",
   "execution_count": 9,
   "metadata": {},
   "outputs": [],
   "source": [
    "adj_mat2 = (adj_mat2 > 0.044).astype(float)"
   ]
  },
  {
   "cell_type": "code",
   "execution_count": 10,
   "metadata": {},
   "outputs": [
    {
     "data": {
      "text/plain": [
       "0.9759183673469388"
      ]
     },
     "execution_count": 10,
     "metadata": {},
     "output_type": "execute_result"
    }
   ],
   "source": [
    "np.equal(adj_mat1, adj_mat2).mean()"
   ]
  },
  {
   "cell_type": "code",
   "execution_count": 11,
   "metadata": {},
   "outputs": [
    {
     "data": {
      "text/plain": [
       "(4900,)"
      ]
     },
     "execution_count": 11,
     "metadata": {},
     "output_type": "execute_result"
    }
   ],
   "source": [
    "adj_mat1.flatten().shape"
   ]
  },
  {
   "cell_type": "code",
   "execution_count": 12,
   "metadata": {},
   "outputs": [
    {
     "name": "stdout",
     "output_type": "stream",
     "text": [
      "0.016666666666666666\n",
      "0.016666666666666666\n"
     ]
    }
   ],
   "source": [
    "print(precision_score(adj_mat1.flatten(), adj_mat2.flatten()))\n",
    "print(recall_score(adj_mat1.flatten(), adj_mat2.flatten()))"
   ]
  },
  {
   "cell_type": "code",
   "execution_count": 14,
   "metadata": {},
   "outputs": [
    {
     "data": {
      "text/plain": [
       "<sklearn.metrics._plot.confusion_matrix.ConfusionMatrixDisplay at 0x7fa7d34a0880>"
      ]
     },
     "execution_count": 14,
     "metadata": {},
     "output_type": "execute_result"
    },
    {
     "data": {
      "image/png": "[encoded data removed]",
      "text/plain": [
       "<Figure size 432x288 with 2 Axes>"
      ]
     },
     "metadata": {
      "needs_background": "light"
     },
     "output_type": "display_data"
    }
   ],
   "source": [
    "disp = ConfusionMatrixDisplay(confusion_matrix(adj_mat2.flatten(), adj_mat_gt.flatten()))\n",
    "disp.plot()"
   ]
  }
 ],
 "metadata": {
  "kernelspec": {
   "display_name": "gnn",
   "language": "python",
   "name": "python3"
  },
  "language_info": {
   "codemirror_mode": {
    "name": "ipython",
    "version": 3
   },
   "file_extension": ".py",
   "mimetype": "text/x-python",
   "name": "python",
   "nbconvert_exporter": "python",
   "pygments_lexer": "ipython3",
   "version": "3.10.9"
  },
  "orig_nbformat": 4,
  "vscode": {
   "interpreter": {
    "hash": "0e51103ac6c53fe55de20f4620cfe6b8fd548af295bbf13940f7844378471672"
   }
  }
 },
 "nbformat": 4,
 "nbformat_minor": 2
}
