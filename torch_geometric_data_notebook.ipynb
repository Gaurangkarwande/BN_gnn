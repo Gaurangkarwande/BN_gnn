{
 "cells": [
  {
   "cell_type": "code",
   "execution_count": 1,
   "metadata": {},
   "outputs": [],
   "source": [
    "from pgmpy.readwrite import BIFReader\n",
    "from pathlib import Path\n",
    "from src.utils import adj_df_from_BIF, get_train_test_splits, encode_data, get_terminal_connection_nodes\n",
    "from src.data import BNDataset\n",
    "from src.models.BNNet import BNNet\n",
    "from src.train import train\n",
    "from src.constants import HEPAR_TARGET\n",
    "\n",
    "import pandas as pd\n",
    "from scipy.stats import bernoulli\n",
    "\n",
    "import torch\n",
    "import torch.nn as nn\n",
    "from torch.utils.data import DataLoader\n",
    "import yaml\n",
    "\n",
    "from torch_geometric.nn import GCNConv, FAConv, GATv2Conv\n",
    "from torch_geometric.utils import dense_to_sparse, to_torch_coo_tensor"
   ]
  },
  {
   "cell_type": "code",
   "execution_count": 2,
   "metadata": {},
   "outputs": [
    {
     "data": {
      "text/plain": [
       "{'embedding_dim': 16,\n",
       " 'gnn_hidden_dim': 64,\n",
       " 'gnn_out_dim': 16,\n",
       " 'fc1_out_dim': 16,\n",
       " 'batch_size_train': 64,\n",
       " 'batch_size_val': 64,\n",
       " 'batch_size_test': 64,\n",
       " 'num_epochs': 50,\n",
       " 'patience': 10,\n",
       " 'min_delta': 1e-05,\n",
       " 'lr': 0.01}"
      ]
     },
     "execution_count": 2,
     "metadata": {},
     "output_type": "execute_result"
    }
   ],
   "source": [
    "fpath_bif = Path(\"/home/gaurang/bayesian_network/data/hepar/hepar2.bif\")\n",
    "fpath_data = Path(\"/home/gaurang/bayesian_network/data/hepar/HEPARTWO10k.csv\")\n",
    "fpath_config = Path(\"/home/gaurang/bayesian_network/code/src/config.yaml\")\n",
    "\n",
    "with open(fpath_config, 'r') as f:\n",
    "    config = yaml.load(f, Loader=yaml.Loader)\n",
    "config"
   ]
  },
  {
   "cell_type": "code",
   "execution_count": 3,
   "metadata": {},
   "outputs": [],
   "source": [
    "df_data = pd.read_csv(fpath_data, dtype=str)\n",
    "bn = BIFReader(fpath_bif)\n",
    "df_data, encoder = encode_data(df_data, bn)\n",
    "df_train, df_valid, df_test = get_train_test_splits(df_data, 123, False)"
   ]
  },
  {
   "cell_type": "code",
   "execution_count": 4,
   "metadata": {},
   "outputs": [],
   "source": [
    "# create datasets\n",
    "perturbation_factor = 0.0\n",
    "adj_df = adj_df_from_BIF(bn, HEPAR_TARGET, perturbation_factor)\n",
    "\n",
    "train_set = BNDataset(df_data=df_train, target_node=HEPAR_TARGET, bn=bn, adj_df=adj_df, perturbation_factor=perturbation_factor)\n",
    "val_set = BNDataset(df_data=df_valid, target_node=HEPAR_TARGET, bn=bn, adj_df=adj_df, perturbation_factor=perturbation_factor)\n",
    "test_set = BNDataset(df_data=df_test, target_node=HEPAR_TARGET, bn=bn, adj_df=adj_df, perturbation_factor=perturbation_factor)"
   ]
  },
  {
   "cell_type": "code",
   "execution_count": 5,
   "metadata": {},
   "outputs": [
    {
     "data": {
      "text/plain": [
       "alcoholism     0.0\n",
       "vh_amn         0.0\n",
       "hepatotoxic    0.0\n",
       "THepatitis     0.0\n",
       "hospital       0.0\n",
       "              ... \n",
       "hcv_anti       0.0\n",
       "palms          0.0\n",
       "hbeag          0.0\n",
       "carcinoma      0.0\n",
       "pain           0.0\n",
       "Name: pain, Length: 70, dtype: float64"
      ]
     },
     "execution_count": 5,
     "metadata": {},
     "output_type": "execute_result"
    }
   ],
   "source": [
    "adj_df['pain']"
   ]
  },
  {
   "cell_type": "code",
   "execution_count": 6,
   "metadata": {},
   "outputs": [
    {
     "data": {
      "text/plain": [
       "(['PBC', 'joints'], [13, 33])"
      ]
     },
     "execution_count": 6,
     "metadata": {},
     "output_type": "execute_result"
    }
   ],
   "source": [
    "get_terminal_connection_nodes(adj_df, target=HEPAR_TARGET)"
   ]
  },
  {
   "cell_type": "code",
   "execution_count": 7,
   "metadata": {},
   "outputs": [],
   "source": [
    "dataloader_train = DataLoader(train_set, batch_size=config[\"batch_size_train\"])\n",
    "dataloader_valid = DataLoader(val_set, batch_size=config[\"batch_size_val\"])\n",
    "dataloader_test = DataLoader(test_set, batch_size=config[\"batch_size_test\"])"
   ]
  },
  {
   "cell_type": "code",
   "execution_count": 8,
   "metadata": {},
   "outputs": [],
   "source": [
    "it = iter(dataloader_train)\n",
    "batch = next(it)\n",
    "X, y = batch"
   ]
  },
  {
   "cell_type": "code",
   "execution_count": 9,
   "metadata": {},
   "outputs": [],
   "source": [
    "model = BNNet(\n",
    "        config=config,\n",
    "        num_nodes= len(train_set.input_nodes),\n",
    "        node_states=train_set.input_states,\n",
    "        edge_index=train_set.edge_index,\n",
    "        terminal_node_ids=train_set.terminal_node_ids,\n",
    "        target_node_states=train_set.target_states\n",
    "        )"
   ]
  },
  {
   "cell_type": "code",
   "execution_count": 10,
   "metadata": {},
   "outputs": [
    {
     "data": {
      "text/plain": [
       "tensor([[-9.6783e-04,  2.6105e-01],\n",
       "        [-1.0900e-03,  2.4468e-01],\n",
       "        [-2.5265e-03,  2.1281e-02],\n",
       "        [-2.5265e-03,  2.1281e-02],\n",
       "        [-2.5265e-03,  2.1281e-02],\n",
       "        [-2.2176e-03,  8.7890e-02],\n",
       "        [-1.8464e-03,  3.2355e-02],\n",
       "        [-2.0175e-04,  3.6042e-01],\n",
       "        [-2.0175e-04,  3.6042e-01],\n",
       "        [-9.6783e-04,  2.6105e-01],\n",
       "        [-8.7183e-04,  2.2465e-01],\n",
       "        [-1.9749e-03,  1.3139e-01],\n",
       "        [-2.5265e-03,  2.1281e-02],\n",
       "        [-1.9749e-03,  1.3139e-01],\n",
       "        [-1.8222e-03, -3.9553e-04],\n",
       "        [-1.4513e-03,  2.4869e-02],\n",
       "        [-2.5265e-03,  2.1281e-02],\n",
       "        [-1.4513e-03,  2.4869e-02],\n",
       "        [-1.4513e-03,  2.4869e-02],\n",
       "        [-2.0175e-04,  3.6042e-01],\n",
       "        [-9.6783e-04,  2.6105e-01],\n",
       "        [-1.9749e-03,  1.3139e-01],\n",
       "        [-2.5265e-03,  2.1281e-02],\n",
       "        [-1.9749e-03,  1.3139e-01],\n",
       "        [-1.8222e-03, -3.9553e-04],\n",
       "        [-1.8127e-03,  1.4210e-01],\n",
       "        [-2.0175e-04,  3.6042e-01],\n",
       "        [-1.8222e-03, -3.9553e-04],\n",
       "        [-9.6783e-04,  2.6105e-01],\n",
       "        [-8.7183e-04,  2.2465e-01],\n",
       "        [-9.6783e-04,  2.6105e-01],\n",
       "        [-9.6783e-04,  2.6105e-01],\n",
       "        [-9.6783e-04,  2.6105e-01],\n",
       "        [-1.8127e-03,  1.4210e-01],\n",
       "        [-2.5265e-03,  2.1281e-02],\n",
       "        [-2.0175e-04,  3.6042e-01],\n",
       "        [-9.6783e-04,  2.6105e-01],\n",
       "        [-1.8222e-03, -3.9553e-04],\n",
       "        [-1.9749e-03,  1.3139e-01],\n",
       "        [-1.2253e-03,  1.7406e-01],\n",
       "        [-2.5265e-03,  2.1281e-02],\n",
       "        [-1.8222e-03, -3.9553e-04],\n",
       "        [-9.6783e-04,  2.6105e-01],\n",
       "        [-2.0175e-04,  3.6042e-01],\n",
       "        [-1.8127e-03,  1.4210e-01],\n",
       "        [-9.6783e-04,  2.6105e-01],\n",
       "        [-1.0532e-03,  4.7204e-02],\n",
       "        [-1.8127e-03,  1.4210e-01],\n",
       "        [-1.9749e-03,  1.3139e-01],\n",
       "        [-1.8222e-03, -3.9553e-04],\n",
       "        [-9.6783e-04,  2.6105e-01],\n",
       "        [-1.8127e-03,  1.4210e-01],\n",
       "        [-4.6372e-04,  1.6733e-01],\n",
       "        [-1.8127e-03,  1.4210e-01],\n",
       "        [-2.2176e-03,  8.7890e-02],\n",
       "        [-8.7183e-04,  2.2465e-01],\n",
       "        [-1.8222e-03, -3.9553e-04],\n",
       "        [-1.4513e-03,  2.4869e-02],\n",
       "        [-2.5265e-03,  2.1281e-02],\n",
       "        [-9.6783e-04,  2.6105e-01],\n",
       "        [-2.0175e-04,  3.6042e-01],\n",
       "        [-8.7183e-04,  2.2465e-01],\n",
       "        [-1.9749e-03,  1.3139e-01],\n",
       "        [-1.9749e-03,  1.3139e-01]], grad_fn=<LeakyReluBackward0>)"
      ]
     },
     "execution_count": 10,
     "metadata": {},
     "output_type": "execute_result"
    }
   ],
   "source": [
    "model(X)"
   ]
  },
  {
   "cell_type": "code",
   "execution_count": 30,
   "metadata": {},
   "outputs": [
    {
     "data": {
      "text/plain": [
       "torch.Size([4, 69, 64])"
      ]
     },
     "execution_count": 30,
     "metadata": {},
     "output_type": "execute_result"
    }
   ],
   "source": [
    "gnn_input = []\n",
    "\n",
    "for i, node_embedding_layer in enumerate(model.node_embedding_layers):\n",
    "    gnn_input.append(node_embedding_layer(X[:, i]))\n",
    "\n",
    "x = torch.stack(gnn_input, dim=1)\n",
    "x = x[:4, :, :]\n",
    "x.shape"
   ]
  },
  {
   "cell_type": "code",
   "execution_count": 35,
   "metadata": {},
   "outputs": [
    {
     "data": {
      "text/plain": [
       "torch.Size([2, 121])"
      ]
     },
     "execution_count": 35,
     "metadata": {},
     "output_type": "execute_result"
    }
   ],
   "source": [
    "x.shape\n",
    "edge_index = model.gnn.edge_index\n",
    "edge_index.shape"
   ]
  },
  {
   "cell_type": "code",
   "execution_count": 33,
   "metadata": {},
   "outputs": [],
   "source": [
    "batch_edge_index = edge_index\n",
    "for i in range(1, x.shape[0]):\n",
    "    batch_edge_index = torch.cat((batch_edge_index, edge_index + i*model.num_nodes), 1)"
   ]
  },
  {
   "cell_type": "code",
   "execution_count": 38,
   "metadata": {},
   "outputs": [
    {
     "name": "stdout",
     "output_type": "stream",
     "text": [
      "torch.Size([4, 69, 64])\n",
      "torch.Size([2, 484])\n"
     ]
    }
   ],
   "source": [
    "print(x.shape)\n",
    "print(batch_edge_index.shape)"
   ]
  },
  {
   "cell_type": "code",
   "execution_count": 19,
   "metadata": {},
   "outputs": [],
   "source": [
    "gnn = FAConv(channels=-1)\n"
   ]
  },
  {
   "cell_type": "code",
   "execution_count": 41,
   "metadata": {},
   "outputs": [
    {
     "data": {
      "text/plain": [
       "torch.Size([4, 69, 64])"
      ]
     },
     "execution_count": 41,
     "metadata": {},
     "output_type": "execute_result"
    }
   ],
   "source": [
    "gnn(x.view(x.shape[0]*x.shape[1], -1), x.view(x.shape[0]*x.shape[1], -1), batch_edge_index).view(-1, model.num_nodes, 64).shape"
   ]
  },
  {
   "cell_type": "code",
   "execution_count": null,
   "metadata": {},
   "outputs": [],
   "source": [
    "model(train)"
   ]
  },
  {
   "cell_type": "code",
   "execution_count": 11,
   "metadata": {},
   "outputs": [],
   "source": [
    "num_embeddings_list = [len(state) for state in dataset.input_states]\n",
    "node_embedding_layers = [\n",
    "    nn.Embedding(num_emdeddings, 7)\n",
    "    for num_emdeddings in num_embeddings_list\n",
    "]"
   ]
  },
  {
   "cell_type": "code",
   "execution_count": 13,
   "metadata": {},
   "outputs": [
    {
     "data": {
      "text/plain": [
       "36"
      ]
     },
     "execution_count": 13,
     "metadata": {},
     "output_type": "execute_result"
    }
   ],
   "source": [
    "gnn_input = []\n",
    "\n",
    "for i, node_embedding_layer in enumerate(node_embedding_layers):\n",
    "    gnn_input.append(node_embedding_layer(X[:, i]))\n",
    "\n",
    "len(gnn_input)\n"
   ]
  },
  {
   "cell_type": "code",
   "execution_count": 30,
   "metadata": {},
   "outputs": [
    {
     "data": {
      "text/plain": [
       "torch.Size([4, 36, 7])"
      ]
     },
     "execution_count": 30,
     "metadata": {},
     "output_type": "execute_result"
    }
   ],
   "source": [
    "gnn_input = torch.stack(gnn_input, dim=1)\n",
    "gnn_input.shape"
   ]
  },
  {
   "cell_type": "code",
   "execution_count": 24,
   "metadata": {},
   "outputs": [],
   "source": [
    "gnn = GCNConv(7, 10)"
   ]
  },
  {
   "cell_type": "code",
   "execution_count": 33,
   "metadata": {},
   "outputs": [
    {
     "data": {
      "text/plain": [
       "torch.Size([4, 36, 10])"
      ]
     },
     "execution_count": 33,
     "metadata": {},
     "output_type": "execute_result"
    }
   ],
   "source": [
    "x = gnn(gnn_input, edge_index)\n",
    "x.shape"
   ]
  },
  {
   "cell_type": "code",
   "execution_count": 37,
   "metadata": {},
   "outputs": [
    {
     "data": {
      "text/plain": [
       "torch.Size([4, 360])"
      ]
     },
     "execution_count": 37,
     "metadata": {},
     "output_type": "execute_result"
    }
   ],
   "source": [
    "x = x.view(4, -1)\n",
    "x.shape"
   ]
  },
  {
   "cell_type": "code",
   "execution_count": 48,
   "metadata": {},
   "outputs": [
    {
     "data": {
      "text/plain": [
       "0"
      ]
     },
     "execution_count": 48,
     "metadata": {},
     "output_type": "execute_result"
    }
   ],
   "source": [
    "pmf = bernoulli(0.0)\n",
    "pmf.rvs(size=1)[0]"
   ]
  },
  {
   "cell_type": "code",
   "execution_count": 18,
   "metadata": {},
   "outputs": [
    {
     "data": {
      "text/plain": [
       "True"
      ]
     },
     "execution_count": 18,
     "metadata": {},
     "output_type": "execute_result"
    }
   ],
   "source": [
    "device = torch.device(\"cuda\" if torch.cuda.is_available() else \"cpu\")\n",
    "device == torch.device(\"cuda\")"
   ]
  },
  {
   "cell_type": "code",
   "execution_count": 3,
   "metadata": {},
   "outputs": [
    {
     "data": {
      "text/plain": [
       "0.955"
      ]
     },
     "execution_count": 3,
     "metadata": {},
     "output_type": "execute_result"
    }
   ],
   "source": [
    "from sklearn.metrics import accuracy_score\n",
    "\n",
    "fpath_inference = Path(\"/home/gaurang/bayesian_network/experiments/alarm/20230213_163627_training_record/inference.csv\")\n",
    "df_inference = pd.read_csv(fpath_inference)\n",
    "\n",
    "y = df_inference['HRSAT']\n",
    "pred = df_inference['predicted_values']\n",
    "\n",
    "accuracy_score(y, pred)"
   ]
  }
 ],
 "metadata": {
  "kernelspec": {
   "display_name": "gnn",
   "language": "python",
   "name": "python3"
  },
  "language_info": {
   "codemirror_mode": {
    "name": "ipython",
    "version": 3
   },
   "file_extension": ".py",
   "mimetype": "text/x-python",
   "name": "python",
   "nbconvert_exporter": "python",
   "pygments_lexer": "ipython3",
   "version": "3.10.9"
  },
  "orig_nbformat": 4,
  "vscode": {
   "interpreter": {
    "hash": "0e51103ac6c53fe55de20f4620cfe6b8fd548af295bbf13940f7844378471672"
   }
  }
 },
 "nbformat": 4,
 "nbformat_minor": 2
}
